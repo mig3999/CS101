{
 "cells": [
  {
   "attachments": {
    "fe67d816-9ccd-4ccd-9ca2-5a856c0f5334.png": {
     "image/png": "[encoded data removed]"
    }
   },
   "cell_type": "markdown",
   "id": "64863d2f-63f3-4b6c-88c1-b6610f5a910b",
   "metadata": {
    "editable": true,
    "slideshow": {
     "slide_type": ""
    },
    "tags": []
   },
   "source": [
    "![Screenshot 2024-10-30 at 1.38.46 PM.png](attachment:fe67d816-9ccd-4ccd-9ca2-5a856c0f5334.png)\n",
    "\n",
    "COMSC 101 Lab Activity #11\n",
    "==\n"
   ]
  },
  {
   "cell_type": "markdown",
   "id": "c026e5e7-184a-4972-905c-a57505012309",
   "metadata": {
    "editable": false,
    "slideshow": {
     "slide_type": ""
    },
    "tags": []
   },
   "source": [
    "\n",
    "&nbsp;\n",
    "\n",
    "## Question P 3.14\n",
    "\n",
    "Write a program that takes user input describing a playing card in the following shorthand notation: \n",
    "\n",
    "```\n",
    "A Ace 2...10 Card values\n",
    "J Jack\n",
    "Q Queen\n",
    "K King\n",
    "D Diamonds\n",
    "H Hearts\n",
    "S Spades\n",
    "C Clubs\n",
    "```\n",
    "Your program should print the full description of the card. For example,\n",
    "```\n",
    "Enter the card notation: QS\n",
    "Queen of Spades\n",
    "```\n"
   ]
  },
  {
   "cell_type": "code",
   "execution_count": null,
   "id": "78d18d35-59e7-446c-b604-f5efc0df06ae",
   "metadata": {},
   "outputs": [],
   "source": [
    "# P3.14 here\n"
   ]
  },
  {
   "cell_type": "markdown",
   "id": "56348c0c-bb35-407d-9b34-bacd897f49c8",
   "metadata": {
    "editable": false,
    "slideshow": {
     "slide_type": ""
    },
    "tags": []
   },
   "source": [
    "\n",
    "## Question P3.15\n",
    "\n",
    "Write a program that reads in three floating-point numbers and prints the largest of the three inputs without using the max function. For example:\n",
    "```\n",
    "Enter a number: 4\n",
    "Enter a number: 9\n",
    "Enter a number: 2.5\n",
    "The largest number is 9.0\n",
    "```"
   ]
  },
  {
   "cell_type": "code",
   "execution_count": null,
   "id": "0689d269-2928-45e9-98b8-731406306570",
   "metadata": {},
   "outputs": [],
   "source": [
    "# P3.15 here"
   ]
  },
  {
   "cell_type": "markdown",
   "id": "961a89f3-e26e-4632-b845-c55d00454bf5",
   "metadata": {
    "editable": false,
    "slideshow": {
     "slide_type": ""
    },
    "tags": []
   },
   "source": [
    "\n",
    "&nbsp;\n",
    "\n",
    "## Questions P3.16\n",
    "\n",
    "Write a program that reads in three strings and sorts them lexicographically.\n",
    "```\n",
    "Enter a string: Charlie\n",
    "Enter a string: Able\n",
    "Enter a string: Baker\n",
    "\n",
    "Able\n",
    "Baker\n",
    "Charlie\n",
    "```"
   ]
  },
  {
   "cell_type": "code",
   "execution_count": null,
   "id": "7587355b-a332-436c-ad26-daaa5893b0d4",
   "metadata": {
    "editable": true,
    "slideshow": {
     "slide_type": ""
    },
    "tags": []
   },
   "outputs": [],
   "source": [
    "#put P3.16 in here\n"
   ]
  },
  {
   "cell_type": "markdown",
   "id": "22cb726d-e6e5-49c2-8d8d-2a39d149d86d",
   "metadata": {
    "editable": false,
    "slideshow": {
     "slide_type": ""
    },
    "tags": []
   },
   "source": [
    "\n",
    "&nbsp;\n",
    "\n",
    "## Question P3.18 (part 1)\n",
    "\n",
    "When two points in time are compared, each given as hours (in military time, rang- ing from 0 to 23) and minutes, the following pseudocode determines which comes first.\n",
    "\n",
    "```\n",
    "If hour1 < hour2\n",
    "    time1 comes first.\n",
    "Else if hour1 and hour2 are the same\n",
    "    If minute1 < minute2\n",
    "        time1 comes first.\n",
    "    Else if minute1 and minute2 are the same\n",
    "        time1 and time2 are the same.\n",
    "    Else\n",
    "        time2 comes first.\n",
    "    Else\n",
    "        time2 comes first.\n",
    "```\n",
    "\n",
    "Draw a flow chart (using paper or elecronic method) and insert it into the \"markdown\" cell below."
   ]
  },
  {
   "cell_type": "markdown",
   "id": "769133d3-ef5d-4911-af4d-e818caaa9286",
   "metadata": {},
   "source": [
    "Put your chart in here (drag and drop)\n",
    "\n"
   ]
  },
  {
   "cell_type": "markdown",
   "id": "79500ad6-0446-40cc-beb8-83c221059f16",
   "metadata": {
    "editable": false,
    "slideshow": {
     "slide_type": ""
    },
    "tags": []
   },
   "source": [
    "\n",
    "&nbsp;\n",
    "\n",
    "## Question P3.18 (part 2)\n",
    "\n",
    "Now that you have a flow chart for P3.18, create a program  that prompts the user for two points in time and prints the time that comes first, then the other time.  The user should be allowed to enter the time (in military time, ranging from 0 to 23), followed by minutes.\n"
   ]
  },
  {
   "cell_type": "code",
   "execution_count": 1,
   "id": "6a019819-3583-4ef1-9541-a55d24d980f0",
   "metadata": {},
   "outputs": [],
   "source": [
    "# P3.18 goes here\n"
   ]
  },
  {
   "cell_type": "markdown",
   "id": "35fbcde1-9131-45f5-bb5f-e1472dbc9944",
   "metadata": {
    "editable": false,
    "slideshow": {
     "slide_type": ""
    },
    "tags": []
   },
   "source": [
    "\n",
    "&nbsp;\n",
    "\n",
    "## Question P3.20 (Part 1)\n",
    "\n",
    "The following algorithm yields the season (Spring, Summer, Fall, or Winter) for a given month and day.\n",
    "\n",
    "```\n",
    "If month is 1, 2, or 3, season = \"Winter\"\n",
    "Else if month is 4, 5, or 6, season = \"Spring\"\n",
    "Else if month is 7, 8, or 9, season = \"Summer\"\n",
    "Else if month is 10, 11, or 12, season = \"Fall\"\n",
    "If month is divisible by 3 and day >= 21\n",
    "    If season is \"Winter\", season = \"Spring\"\n",
    "    Else if season is \"Spring\", season = \"Summer\"\n",
    "    Else if season is \"Summer\", season = \"Fall\"\n",
    "    Else season = \"Winter\"\n",
    "```\n",
    "\n",
    "Express the algorithm using a flowchart, and attach the flowchart below:"
   ]
  },
  {
   "cell_type": "markdown",
   "id": "1274fcec-cb66-41dc-a6eb-ea0e062f2910",
   "metadata": {},
   "source": [
    "put your flowchart in here (drag and drop)\n",
    "\n"
   ]
  },
  {
   "cell_type": "markdown",
   "id": "809a8a3e-e1bf-4b15-8560-5545785a6388",
   "metadata": {
    "editable": false,
    "slideshow": {
     "slide_type": ""
    },
    "tags": []
   },
   "source": [
    "\n",
    "&nbsp;\n",
    "\n",
    "## Question P3.20 (Part 2)\n",
    "\n",
    "Now that we have a flow chart, write a program that prompts the user for a month and day and then prints the season, as determined by the algorithm.#"
   ]
  },
  {
   "cell_type": "code",
   "execution_count": null,
   "id": "4c19f007-60f5-4be0-9901-5497776a82cf",
   "metadata": {
    "editable": true,
    "slideshow": {
     "slide_type": ""
    },
    "tags": []
   },
   "outputs": [],
   "source": [
    "# Put P3.20 in here"
   ]
  },
  {
   "cell_type": "markdown",
   "id": "d1fc2f9e-b977-4991-9f70-6a4301e5f113",
   "metadata": {},
   "source": [
    "\n",
    "&nbsp;\n",
    "\n",
    "## P 3.28 Roman numbers. \n",
    "\n",
    "Write a program that converts a positive integer into the Roman number system. The Roman number system has digits\n",
    "\n",
    "* I 1\n",
    "* V 5\n",
    "* X 10\n",
    "* L 50\n",
    "* C 100\n",
    "* D 500 \n",
    "* M 1,000\n",
    "\n",
    "Numbers are formed according to the following rules.\n",
    "\n",
    "a. Only numbers up to 3,999 are represented.\n",
    "\n",
    "b. As in the decimal system, the thousands, hundreds, tens, and ones are ex- pressed separately.\n",
    "\n",
    "c. The numbers 1 to 9 are expressed as\n",
    "* I 1\n",
    "* II 2\n",
    "* III 3\n",
    "* IV 4\n",
    "* V 5\n",
    "* VI 6\n",
    "* VII 7\n",
    "* VIII 8\n",
    "* IX 9\n",
    "\n",
    "As you can see, an I preceding a V or X is subtracted from the value, and you can never have more than three I’s in a row.\n",
    "\n",
    "d. Tens and hundreds are done the same way, except that the letters X, L, C and C, D, M are used instead of I, V, X, respectively.\n",
    "\n",
    "Your program should take an input, such as 1978, and convert it to Roman numerals, MCMLXXVIII."
   ]
  },
  {
   "cell_type": "code",
   "execution_count": null,
   "id": "d78cc659-04ed-42eb-a634-15c5441db1b7",
   "metadata": {},
   "outputs": [],
   "source": [
    "\n",
    "# put 3.28 in here\n",
    "\n"
   ]
  },
  {
   "cell_type": "markdown",
   "id": "102a6a14-69ce-44e9-8f0a-9d9bd4287353",
   "metadata": {
    "editable": false,
    "slideshow": {
     "slide_type": ""
    },
    "tags": []
   },
   "source": [
    "\n",
    "&nbsp;\n",
    "\n",
    "## Bonus question\n",
    "\n",
    "Drag and drop a funny image for Mr. Borges below (for example, the Liverpool FC logo).\n"
   ]
  },
  {
   "cell_type": "markdown",
   "id": "1b9b9d18-da80-43c3-a54d-d37bb131396f",
   "metadata": {
    "editable": true,
    "slideshow": {
     "slide_type": ""
    },
    "tags": []
   },
   "source": [
    "Drag something into here\n"
   ]
  }
 ],
 "metadata": {
  "kernelspec": {
   "display_name": "Python 3 (ipykernel)",
   "language": "python",
   "name": "python3"
  },
  "language_info": {
   "codemirror_mode": {
    "name": "ipython",
    "version": 3
   },
   "file_extension": ".py",
   "mimetype": "text/x-python",
   "name": "python",
   "nbconvert_exporter": "python",
   "pygments_lexer": "ipython3",
   "version": "3.10.10"
  }
 },
 "nbformat": 4,
 "nbformat_minor": 5
}
